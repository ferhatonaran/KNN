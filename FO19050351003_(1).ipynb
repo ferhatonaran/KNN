{
 "cells": [
  {
   "attachments": {},
   "cell_type": "markdown",
   "id": "35f5b626-fb12-4d9e-828a-d99551b0e8ee",
   "metadata": {},
   "source": [
    "## Ferhat ONARAN\n",
    "** 19050351003 **"
   ]
  },
  {
   "cell_type": "code",
   "execution_count": 1,
   "id": "7e2eb49a-d0b5-40fc-9019-4463c2f2aa42",
   "metadata": {},
   "outputs": [],
   "source": [
    "import pandas as pd\n",
    "import numpy as np\n"
   ]
  },
  {
   "cell_type": "code",
   "execution_count": 2,
   "id": "7bb2821d-6c77-4493-9fc1-1b89cb237685",
   "metadata": {
    "collapsed": true,
    "jupyter": {
     "outputs_hidden": true
    },
    "tags": []
   },
   "outputs": [
    {
     "name": "stdout",
     "output_type": "stream",
     "text": [
      "Requirement already satisfied: pydataset in c:\\users\\ferha\\appdata\\local\\packages\\pythonsoftwarefoundation.python.3.11_qbz5n2kfra8p0\\localcache\\local-packages\\python311\\site-packages (0.2.0)\n",
      "Requirement already satisfied: pandas in c:\\users\\ferha\\appdata\\local\\packages\\pythonsoftwarefoundation.python.3.11_qbz5n2kfra8p0\\localcache\\local-packages\\python311\\site-packages (from pydataset) (2.0.2)\n",
      "Requirement already satisfied: python-dateutil>=2.8.2 in c:\\users\\ferha\\appdata\\local\\packages\\pythonsoftwarefoundation.python.3.11_qbz5n2kfra8p0\\localcache\\local-packages\\python311\\site-packages (from pandas->pydataset) (2.8.2)\n",
      "Requirement already satisfied: pytz>=2020.1 in c:\\users\\ferha\\appdata\\local\\packages\\pythonsoftwarefoundation.python.3.11_qbz5n2kfra8p0\\localcache\\local-packages\\python311\\site-packages (from pandas->pydataset) (2023.3)\n",
      "Requirement already satisfied: tzdata>=2022.1 in c:\\users\\ferha\\appdata\\local\\packages\\pythonsoftwarefoundation.python.3.11_qbz5n2kfra8p0\\localcache\\local-packages\\python311\\site-packages (from pandas->pydataset) (2023.3)\n",
      "Requirement already satisfied: numpy>=1.21.0 in c:\\users\\ferha\\appdata\\local\\packages\\pythonsoftwarefoundation.python.3.11_qbz5n2kfra8p0\\localcache\\local-packages\\python311\\site-packages (from pandas->pydataset) (1.25.0)\n",
      "Requirement already satisfied: six>=1.5 in c:\\users\\ferha\\appdata\\local\\packages\\pythonsoftwarefoundation.python.3.11_qbz5n2kfra8p0\\localcache\\local-packages\\python311\\site-packages (from python-dateutil>=2.8.2->pandas->pydataset) (1.16.0)\n",
      "Note: you may need to restart the kernel to use updated packages.\n"
     ]
    }
   ],
   "source": [
    "pip install pydataset"
   ]
  },
  {
   "cell_type": "code",
   "execution_count": 3,
   "id": "957172e6-cf63-45ff-a2b4-21fe7a4f4c7c",
   "metadata": {},
   "outputs": [],
   "source": [
    "import pydataset"
   ]
  },
  {
   "cell_type": "code",
   "execution_count": 4,
   "id": "17e023f7-db9c-4be2-925d-9f2968e49fb0",
   "metadata": {},
   "outputs": [],
   "source": [
    "df=pydataset.data('iris')"
   ]
  },
  {
   "attachments": {},
   "cell_type": "markdown",
   "id": "47798b7d-e456-432e-b2a4-3c24101968d9",
   "metadata": {},
   "source": [
    "Store the data to df variable. This data set is stored as pandas dataframe."
   ]
  },
  {
   "attachments": {},
   "cell_type": "markdown",
   "id": "096283dc-51d0-4701-aedb-1b2876ff6598",
   "metadata": {},
   "source": [
    "Inspect the head of the dataset."
   ]
  },
  {
   "cell_type": "code",
   "execution_count": 5,
   "id": "2f368d13-a702-4a70-a00b-90432f29570f",
   "metadata": {},
   "outputs": [
    {
     "data": {
      "text/html": [
       "<div>\n",
       "<style scoped>\n",
       "    .dataframe tbody tr th:only-of-type {\n",
       "        vertical-align: middle;\n",
       "    }\n",
       "\n",
       "    .dataframe tbody tr th {\n",
       "        vertical-align: top;\n",
       "    }\n",
       "\n",
       "    .dataframe thead th {\n",
       "        text-align: right;\n",
       "    }\n",
       "</style>\n",
       "<table border=\"1\" class=\"dataframe\">\n",
       "  <thead>\n",
       "    <tr style=\"text-align: right;\">\n",
       "      <th></th>\n",
       "      <th>Sepal.Length</th>\n",
       "      <th>Sepal.Width</th>\n",
       "      <th>Petal.Length</th>\n",
       "      <th>Petal.Width</th>\n",
       "      <th>Species</th>\n",
       "    </tr>\n",
       "  </thead>\n",
       "  <tbody>\n",
       "    <tr>\n",
       "      <th>1</th>\n",
       "      <td>5.1</td>\n",
       "      <td>3.5</td>\n",
       "      <td>1.4</td>\n",
       "      <td>0.2</td>\n",
       "      <td>setosa</td>\n",
       "    </tr>\n",
       "    <tr>\n",
       "      <th>2</th>\n",
       "      <td>4.9</td>\n",
       "      <td>3.0</td>\n",
       "      <td>1.4</td>\n",
       "      <td>0.2</td>\n",
       "      <td>setosa</td>\n",
       "    </tr>\n",
       "    <tr>\n",
       "      <th>3</th>\n",
       "      <td>4.7</td>\n",
       "      <td>3.2</td>\n",
       "      <td>1.3</td>\n",
       "      <td>0.2</td>\n",
       "      <td>setosa</td>\n",
       "    </tr>\n",
       "    <tr>\n",
       "      <th>4</th>\n",
       "      <td>4.6</td>\n",
       "      <td>3.1</td>\n",
       "      <td>1.5</td>\n",
       "      <td>0.2</td>\n",
       "      <td>setosa</td>\n",
       "    </tr>\n",
       "    <tr>\n",
       "      <th>5</th>\n",
       "      <td>5.0</td>\n",
       "      <td>3.6</td>\n",
       "      <td>1.4</td>\n",
       "      <td>0.2</td>\n",
       "      <td>setosa</td>\n",
       "    </tr>\n",
       "  </tbody>\n",
       "</table>\n",
       "</div>"
      ],
      "text/plain": [
       "   Sepal.Length  Sepal.Width  Petal.Length  Petal.Width Species\n",
       "1           5.1          3.5           1.4          0.2  setosa\n",
       "2           4.9          3.0           1.4          0.2  setosa\n",
       "3           4.7          3.2           1.3          0.2  setosa\n",
       "4           4.6          3.1           1.5          0.2  setosa\n",
       "5           5.0          3.6           1.4          0.2  setosa"
      ]
     },
     "execution_count": 5,
     "metadata": {},
     "output_type": "execute_result"
    }
   ],
   "source": [
    " df.head()"
   ]
  },
  {
   "attachments": {},
   "cell_type": "markdown",
   "id": "cdf55301-6f7b-4d33-98d4-c365e8f751b0",
   "metadata": {},
   "source": [
    "I shall visualize the values of each features to see the range and distribution of values. This visualization will help me in the next steps to select a suitable feature for my machine learning model."
   ]
  },
  {
   "cell_type": "code",
   "execution_count": 6,
   "id": "b8c69f98-4caf-4575-96dd-5a1719a25dcc",
   "metadata": {},
   "outputs": [],
   "source": [
    "x_names=list(df.columns[:4])\n",
    "from matplotlib import pyplot as plt"
   ]
  },
  {
   "cell_type": "code",
   "execution_count": 7,
   "id": "045a5208-6adf-4414-b054-108719ff2d0c",
   "metadata": {},
   "outputs": [
    {
     "data": {
      "image/png": "[encoded data removed]",
      "text/plain": [
       "<Figure size 640x480 with 1 Axes>"
      ]
     },
     "metadata": {},
     "output_type": "display_data"
    }
   ],
   "source": [
    "plt.boxplot(df.iloc[:,0:4].values);\n",
    "plt.xticks([1,2,3,4],x_names);\n",
    "plt.grid();\n",
    "plt.show();"
   ]
  },
  {
   "attachments": {},
   "cell_type": "markdown",
   "id": "df8a1769-883a-4197-ad2c-4efcddac9997",
   "metadata": {},
   "source": [
    "My visual observation are\n",
    "\n",
    "Sepal length is in the range of 5 to 6.5\n",
    "Sepal width is around 3\n",
    "Petal length is in the range of 1.5 to 5.2\n",
    "Petal width is in the range of 0.5 to 1.8\n",
    "\n",
    "**Any values other than this range are considered as outliers. I can observe few outliers in in Sepal Width**"
   ]
  },
  {
   "cell_type": "code",
   "execution_count": 8,
   "id": "82b21843-3c6d-4752-af60-0900a00150cb",
   "metadata": {},
   "outputs": [],
   "source": [
    "df=df.rename(columns=({'Sepal.Length':'SepLength','Sepal.Width':'SepWidth','Petal.Length':'PetLength','Petal.Width':'PetWidth'}))"
   ]
  },
  {
   "attachments": {},
   "cell_type": "markdown",
   "id": "20372c2e-fa28-4405-85d8-08cc17ba451e",
   "metadata": {},
   "source": [
    "SepWidth_quantile=df.SepWidth.quantile([0.25,0.5,0.75])\n",
    "SepWidth_quantile"
   ]
  },
  {
   "cell_type": "code",
   "execution_count": 9,
   "id": "448151a5-3b29-4633-a10a-fdb1320d708b",
   "metadata": {},
   "outputs": [
    {
     "data": {
      "text/plain": [
       "0.5"
      ]
     },
     "execution_count": 9,
     "metadata": {},
     "output_type": "execute_result"
    }
   ],
   "source": [
    "import pandas as pd\n",
    "\n",
    "# Assuming you have a DataFrame named 'df' with a column named 'SepWidth'\n",
    "SepWidth_quantile = df['SepWidth'].quantile([0.25, 0.75])\n",
    "SepWidth_iqr = SepWidth_quantile[0.75] - SepWidth_quantile[0.25]\n",
    "SepWidth_iqr # Interquartile range\n"
   ]
  },
  {
   "cell_type": "code",
   "execution_count": 10,
   "id": "5c4873ae-27a4-42a8-b638-b63061513863",
   "metadata": {},
   "outputs": [
    {
     "name": "stdout",
     "output_type": "stream",
     "text": [
      "2.05 4.05\n"
     ]
    }
   ],
   "source": [
    "SepWidth_upper = SepWidth_quantile[0.75] + 1.5 * SepWidth_iqr\n",
    "SepWidth_lower = SepWidth_quantile[0.25] - 1.5 * SepWidth_iqr\n",
    "print(SepWidth_lower, SepWidth_upper)"
   ]
  },
  {
   "cell_type": "code",
   "execution_count": 11,
   "id": "a6b962c5-1546-455a-a2c3-89fa0019bcd2",
   "metadata": {},
   "outputs": [
    {
     "data": {
      "text/html": [
       "<div>\n",
       "<style scoped>\n",
       "    .dataframe tbody tr th:only-of-type {\n",
       "        vertical-align: middle;\n",
       "    }\n",
       "\n",
       "    .dataframe tbody tr th {\n",
       "        vertical-align: top;\n",
       "    }\n",
       "\n",
       "    .dataframe thead th {\n",
       "        text-align: right;\n",
       "    }\n",
       "</style>\n",
       "<table border=\"1\" class=\"dataframe\">\n",
       "  <thead>\n",
       "    <tr style=\"text-align: right;\">\n",
       "      <th></th>\n",
       "      <th>SepLength</th>\n",
       "      <th>SepWidth</th>\n",
       "      <th>PetLength</th>\n",
       "      <th>PetWidth</th>\n",
       "      <th>Species</th>\n",
       "    </tr>\n",
       "  </thead>\n",
       "  <tbody>\n",
       "    <tr>\n",
       "      <th>16</th>\n",
       "      <td>5.7</td>\n",
       "      <td>4.4</td>\n",
       "      <td>1.5</td>\n",
       "      <td>0.4</td>\n",
       "      <td>setosa</td>\n",
       "    </tr>\n",
       "    <tr>\n",
       "      <th>33</th>\n",
       "      <td>5.2</td>\n",
       "      <td>4.1</td>\n",
       "      <td>1.5</td>\n",
       "      <td>0.1</td>\n",
       "      <td>setosa</td>\n",
       "    </tr>\n",
       "    <tr>\n",
       "      <th>34</th>\n",
       "      <td>5.5</td>\n",
       "      <td>4.2</td>\n",
       "      <td>1.4</td>\n",
       "      <td>0.2</td>\n",
       "      <td>setosa</td>\n",
       "    </tr>\n",
       "    <tr>\n",
       "      <th>61</th>\n",
       "      <td>5.0</td>\n",
       "      <td>2.0</td>\n",
       "      <td>3.5</td>\n",
       "      <td>1.0</td>\n",
       "      <td>versicolor</td>\n",
       "    </tr>\n",
       "  </tbody>\n",
       "</table>\n",
       "</div>"
      ],
      "text/plain": [
       "    SepLength  SepWidth  PetLength  PetWidth     Species\n",
       "16        5.7       4.4        1.5       0.4      setosa\n",
       "33        5.2       4.1        1.5       0.1      setosa\n",
       "34        5.5       4.2        1.4       0.2      setosa\n",
       "61        5.0       2.0        3.5       1.0  versicolor"
      ]
     },
     "execution_count": 11,
     "metadata": {},
     "output_type": "execute_result"
    }
   ],
   "source": [
    "df[(df.SepWidth <SepWidth_lower) | (df.SepWidth >SepWidth_upper)]"
   ]
  },
  {
   "attachments": {},
   "cell_type": "markdown",
   "id": "46986872-744c-4858-85b8-b628a6070f81",
   "metadata": {},
   "source": [
    "Before removing these outlier I shall check if for these two species ‘setosa’ and ‘versicolor’ these are really outlier considering each species separately."
   ]
  },
  {
   "cell_type": "code",
   "execution_count": 12,
   "id": "20c492fd-17ec-4823-9131-71f8b67fbdb5",
   "metadata": {},
   "outputs": [
    {
     "data": {
      "text/plain": [
       "0.25    2.525\n",
       "0.50    2.800\n",
       "0.75    3.000\n",
       "Name: SepWidth, dtype: float64"
      ]
     },
     "execution_count": 12,
     "metadata": {},
     "output_type": "execute_result"
    }
   ],
   "source": [
    "versicolor_quantile = df[df.Species=='versicolor'].SepWidth.quantile([0.25,.5,0.75])\n",
    "versicolor_quantile"
   ]
  },
  {
   "attachments": {},
   "cell_type": "markdown",
   "id": "cb07616b-e4e8-4590-986a-d5279e3407eb",
   "metadata": {},
   "source": [
    "Get inter quantile range of sepal width for versicolor type of flower"
   ]
  },
  {
   "cell_type": "code",
   "execution_count": 13,
   "id": "0a020819-e75c-48f2-bc91-d7735856db86",
   "metadata": {},
   "outputs": [
    {
     "data": {
      "text/plain": [
       "0.4750000000000001"
      ]
     },
     "execution_count": 13,
     "metadata": {},
     "output_type": "execute_result"
    }
   ],
   "source": [
    "versicolor_iqr=versicolor_quantile[0.75]-versicolor_quantile[0.25]\n",
    "versicolor_iqr"
   ]
  },
  {
   "cell_type": "code",
   "execution_count": 14,
   "id": "58c30a85-e5d8-4bb4-928c-9ed5564070ee",
   "metadata": {},
   "outputs": [
    {
     "name": "stdout",
     "output_type": "stream",
     "text": [
      "1.8124999999999998 3.7125000000000004\n"
     ]
    }
   ],
   "source": [
    "versicolor_lower = versicolor_quantile[0.25]-1.5*versicolor_iqr\n",
    "versicolor_upper = versicolor_quantile[0.75]+1.5*versicolor_iqr\n",
    "print(versicolor_lower, versicolor_upper)"
   ]
  },
  {
   "attachments": {},
   "cell_type": "markdown",
   "id": "0bd23eec-fa06-4f7f-a655-3b99d5760a7e",
   "metadata": {},
   "source": [
    "I can observe that the outlier value of 2.0 found in previous step as a outlier is actually not an outlier when I consider only versicolor’s values. Hence I shall keep this record."
   ]
  },
  {
   "attachments": {},
   "cell_type": "markdown",
   "id": "e25c68e7-34e9-4db4-88ae-278003d907ba",
   "metadata": {
    "jupyter": {
     "source_hidden": true
    },
    "tags": []
   },
   "source": [
    "**Setosa outliers**"
   ]
  },
  {
   "cell_type": "code",
   "execution_count": 15,
   "id": "85cf4bee-b4d4-4334-a3e1-4dcf8f84f2dd",
   "metadata": {
    "collapsed": true,
    "jupyter": {
     "outputs_hidden": true,
     "source_hidden": true
    },
    "tags": []
   },
   "outputs": [
    {
     "data": {
      "text/plain": [
       "0.25    3.200\n",
       "0.50    3.400\n",
       "0.75    3.675\n",
       "Name: SepWidth, dtype: float64"
      ]
     },
     "execution_count": 15,
     "metadata": {},
     "output_type": "execute_result"
    }
   ],
   "source": [
    "setosa_quantile = df[df.Species=='setosa'].SepWidth.quantile([0.25,.5,0.75])\n",
    "setosa_quantile"
   ]
  },
  {
   "cell_type": "code",
   "execution_count": 16,
   "id": "e6544340-78d2-48b6-b612-d8a6e1c9f7f6",
   "metadata": {
    "collapsed": true,
    "jupyter": {
     "outputs_hidden": true
    },
    "tags": []
   },
   "outputs": [
    {
     "data": {
      "text/plain": [
       "0.4750000000000001"
      ]
     },
     "execution_count": 16,
     "metadata": {},
     "output_type": "execute_result"
    }
   ],
   "source": [
    "setosa_iqr=versicolor_quantile[0.75]-versicolor_quantile[0.25]\n",
    "setosa_iqr"
   ]
  },
  {
   "cell_type": "code",
   "execution_count": 17,
   "id": "7e821b0a-8966-4181-9546-a14ae1d3ad59",
   "metadata": {},
   "outputs": [
    {
     "name": "stdout",
     "output_type": "stream",
     "text": [
      "2.4875 4.3875\n"
     ]
    }
   ],
   "source": [
    "setosa_lower = setosa_quantile[0.25]-1.5*setosa_iqr\n",
    "setosa_upper = setosa_quantile[0.75]+1.5*setosa_iqr\n",
    "print(setosa_lower, setosa_upper)"
   ]
  },
  {
   "attachments": {},
   "cell_type": "markdown",
   "id": "f463d092-6371-47ae-825b-6b9ac2922a6d",
   "metadata": {},
   "source": [
    "Though 4.4, 4.1, 4.2 values of sepal width were selected as outliers at earlier step, I can observe that only 4.4 is outside the setosa_lower and setosa_upper boundaries. Hence, I shall mark only 4.4 as outlier and remove it from data point. I must note here that removal of a record from analysis is one of the options to handle outliers. There are other options as well which is out of this analysis."
   ]
  },
  {
   "cell_type": "code",
   "execution_count": 18,
   "id": "298aeaac-4452-4fd2-ac0f-39b9abe76359",
   "metadata": {},
   "outputs": [
    {
     "data": {
      "text/plain": [
       "(150, 5)"
      ]
     },
     "execution_count": 18,
     "metadata": {},
     "output_type": "execute_result"
    }
   ],
   "source": [
    "df.shape"
   ]
  },
  {
   "attachments": {},
   "cell_type": "markdown",
   "id": "3275ce56-0dde-4a74-80fd-b5e1c8466bcc",
   "metadata": {},
   "source": [
    "Select records which are below the upper boundary"
   ]
  },
  {
   "attachments": {},
   "cell_type": "markdown",
   "id": "8ca27376-884a-4c52-9ade-85ef47e6ea49",
   "metadata": {},
   "source": [
    "I have now 149 records for going forward with my analysis."
   ]
  },
  {
   "cell_type": "code",
   "execution_count": 19,
   "id": "7a9ac64e-7fd4-47c3-a7e3-bf0775068806",
   "metadata": {},
   "outputs": [
    {
     "data": {
      "text/plain": [
       "(149, 5)"
      ]
     },
     "execution_count": 19,
     "metadata": {},
     "output_type": "execute_result"
    }
   ],
   "source": [
    "df=df[df.SepWidth<=setosa_upper]\n",
    "df.shape"
   ]
  },
  {
   "attachments": {},
   "cell_type": "markdown",
   "id": "fc21a8dd-aae0-4e4c-954a-72bbd0077d61",
   "metadata": {},
   "source": [
    "Enabling this warning-ignore option to stop displaying warnings. This will help me keeping outputs tidy."
   ]
  },
  {
   "cell_type": "code",
   "execution_count": 20,
   "id": "1ab541ed-8331-4628-a559-1b0018fff09b",
   "metadata": {},
   "outputs": [],
   "source": [
    "import warnings\n",
    "warnings.filterwarnings('ignore')"
   ]
  },
  {
   "cell_type": "code",
   "execution_count": 21,
   "id": "3f95f6be-2dff-44d0-86ec-b9b7354e3ccc",
   "metadata": {},
   "outputs": [
    {
     "data": {
      "image/png": "[encoded data removed]",
      "text/plain": [
       "<Figure size 1500x500 with 3 Axes>"
      ]
     },
     "metadata": {},
     "output_type": "display_data"
    }
   ],
   "source": [
    "fig,ax_1 = plt.subplots(nrows=1,ncols=3,figsize=(15,5),sharey=True,sharex=True)\n",
    "df.iloc[:,0:4].groupby(df.Species).boxplot(ax=ax_1);\n",
    "plt.show();"
   ]
  },
  {
   "attachments": {},
   "cell_type": "markdown",
   "id": "b8cb619b-3404-4ebb-b944-4bddab00afb8",
   "metadata": {},
   "source": [
    "From these box plots I can observe some outliers. Similar to previous outlier removal exercise I shall remove these outliers"
   ]
  },
  {
   "cell_type": "code",
   "execution_count": 22,
   "id": "f2fdda90-dff6-4b6c-8f93-da15bc652a8c",
   "metadata": {},
   "outputs": [],
   "source": [
    "qntl = df[df.Species == 'setosa'].SepWidth.quantile([0.25,0.5,0.75])\n",
    "iqr  = qntl[0.75]-qntl[0.25]\n",
    "lower = qntl[0.25] - 1.5*iqr\n",
    "upper = qntl[0.75] + 1.5*iqr"
   ]
  },
  {
   "cell_type": "code",
   "execution_count": 23,
   "id": "4b27dcc3-6ace-4cec-bfe8-efad70452e56",
   "metadata": {},
   "outputs": [],
   "source": [
    "df=df[~((df.Species == 'setosa')&(df.SepWidth<lower))]"
   ]
  },
  {
   "cell_type": "code",
   "execution_count": 24,
   "id": "2f673f6b-8139-4c26-832c-1d9b99aadde1",
   "metadata": {},
   "outputs": [],
   "source": [
    "qntl = df[df.Species == 'setosa'].PetLength.quantile([0.25,0.5,0.75])\n",
    "iqr  = qntl[0.75]-qntl[0.25]\n",
    "lower = qntl[0.25] - 1.5*iqr\n",
    "upper = qntl[0.75] + 1.5*iqr"
   ]
  },
  {
   "attachments": {},
   "cell_type": "markdown",
   "id": "241b36d6-c054-4dea-b2bf-0a34225ef522",
   "metadata": {},
   "source": [
    "Remove the records of setosa which is outside the lower boundary. One record will be removed here."
   ]
  },
  {
   "cell_type": "code",
   "execution_count": 25,
   "id": "97c56386-4a85-4e3d-ac7e-2d50944054ff",
   "metadata": {},
   "outputs": [],
   "source": [
    "df=df[~((df.Species == 'setosa')&(df.PetLength<lower))]"
   ]
  },
  {
   "attachments": {},
   "cell_type": "markdown",
   "id": "683a3901-7030-4fb2-981a-5fa345cc7e77",
   "metadata": {},
   "source": [
    "Petal Width"
   ]
  },
  {
   "cell_type": "code",
   "execution_count": 26,
   "id": "4415c9ce-f7ce-47a1-a146-e075f60c8d85",
   "metadata": {},
   "outputs": [],
   "source": [
    "qntl = df[df.Species == 'setosa'].PetWidth.quantile([0.25,0.5,0.75])\n",
    "iqr  = qntl[0.75]-qntl[0.25]\n",
    "lower = qntl[0.25] - 1.5*iqr\n",
    "upper = qntl[0.75] + 1.5*iqr"
   ]
  },
  {
   "attachments": {},
   "cell_type": "markdown",
   "id": "c727c46a-8993-4d3e-9bf5-64ff0b354b47",
   "metadata": {},
   "source": [
    "Remove the records of setosa which is outside the upper boundary. Two records will be removed here"
   ]
  },
  {
   "attachments": {},
   "cell_type": "markdown",
   "id": "6b0813b6-b9b2-4f9b-8692-be133747bd09",
   "metadata": {},
   "source": [
    "Remove records for versicolor type."
   ]
  },
  {
   "cell_type": "code",
   "execution_count": 27,
   "id": "57115387-d961-469b-a1da-39e8b54e602b",
   "metadata": {},
   "outputs": [],
   "source": [
    "qntl = df[df.Species == 'versicolor'].PetLength.quantile([0.25,0.5,0.75])\n",
    "iqr  = qntl[0.75]-qntl[0.25]\n",
    "lower = qntl[0.25] - 1.5*iqr\n",
    "upper = qntl[0.75] + 1.5*iqr"
   ]
  },
  {
   "cell_type": "code",
   "execution_count": 28,
   "id": "afbba575-5b87-4e1a-8b1c-7dcb3008f42b",
   "metadata": {},
   "outputs": [],
   "source": [
    "df=df[~((df.Species == 'versicolor')&(df.PetLength<lower))]"
   ]
  },
  {
   "cell_type": "code",
   "execution_count": 29,
   "id": "1836b39b-3a97-4478-8f35-bf8c6bd50daf",
   "metadata": {},
   "outputs": [],
   "source": [
    "qntl = df[df.Species == 'virginica'].SepLength.quantile([0.25,0.5,0.75])\n",
    "iqr  = qntl[0.75]-qntl[0.25]\n",
    "lower = qntl[0.25] - 1.5*iqr\n",
    "upper = qntl[0.75] + 1.5*iqr"
   ]
  },
  {
   "cell_type": "code",
   "execution_count": 30,
   "id": "154bfa4e-9b2c-4c18-a2f0-a97e21309755",
   "metadata": {},
   "outputs": [],
   "source": [
    "df=df[~((df.Species == 'virginica')&(df.SepLength<lower))]"
   ]
  },
  {
   "cell_type": "code",
   "execution_count": 31,
   "id": "4b8db3a2-0bb7-464d-882a-bb806f96d2a2",
   "metadata": {},
   "outputs": [
    {
     "data": {
      "text/plain": [
       "(145, 5)"
      ]
     },
     "execution_count": 31,
     "metadata": {},
     "output_type": "execute_result"
    }
   ],
   "source": [
    "df.shape"
   ]
  },
  {
   "cell_type": "code",
   "execution_count": 32,
   "id": "f31f7ebd-0b7c-4ca1-a113-4f54fd95f675",
   "metadata": {},
   "outputs": [
    {
     "name": "stdout",
     "output_type": "stream",
     "text": [
      "2.1999999999999993 3.8000000000000007\n"
     ]
    }
   ],
   "source": [
    "qntl = df[df.Species == 'virginica'].SepWidth.quantile([0.25,0.5,0.75])\n",
    "iqr  = qntl[0.75]-qntl[0.25]\n",
    "lower = qntl[0.25] - 1.5*iqr\n",
    "upper = qntl[0.75] + 1.5*iqr\n",
    "print(lower,upper)"
   ]
  },
  {
   "cell_type": "code",
   "execution_count": 33,
   "id": "97eb07f2-871f-4f44-8a7d-26f1b4dc39ce",
   "metadata": {},
   "outputs": [
    {
     "name": "stdout",
     "output_type": "stream",
     "text": [
      "min= 2.2\n",
      "max= 3.8\n"
     ]
    }
   ],
   "source": [
    "print('min=',df[(df.Species == 'virginica')]['SepWidth'].min())\n",
    "print('max=',df[(df.Species == 'virginica')]['SepWidth'].max())"
   ]
  },
  {
   "attachments": {},
   "cell_type": "markdown",
   "id": "ee5f2b03-9e82-4f37-b055-2e5258f096ee",
   "metadata": {},
   "source": [
    "My observation are\n",
    "\n",
    "Though earlier box plot for virginical species has shown outliner points for Sepal Width, these are not actual outliers.\n",
    "Hence we will not remove any data points further.\n",
    "Final count of records for analysis is"
   ]
  },
  {
   "cell_type": "code",
   "execution_count": 34,
   "id": "b0484e35-c6e7-4626-ae2e-1ff0af2ecfc4",
   "metadata": {},
   "outputs": [
    {
     "data": {
      "text/plain": [
       "(145, 5)"
      ]
     },
     "execution_count": 34,
     "metadata": {},
     "output_type": "execute_result"
    }
   ],
   "source": [
    "df.shape"
   ]
  },
  {
   "cell_type": "code",
   "execution_count": 35,
   "id": "92c98950-aee8-44d6-b52f-43871e852c0a",
   "metadata": {},
   "outputs": [
    {
     "data": {
      "text/plain": [
       "Species\n",
       "versicolor    49\n",
       "virginica     49\n",
       "setosa        47\n",
       "Name: count, dtype: int64"
      ]
     },
     "execution_count": 35,
     "metadata": {},
     "output_type": "execute_result"
    }
   ],
   "source": [
    "df.Species.value_counts()"
   ]
  },
  {
   "cell_type": "code",
   "execution_count": 36,
   "id": "1909be96-e140-4478-9cfc-6fc8c51247c5",
   "metadata": {},
   "outputs": [],
   "source": [
    "PetLength={'setosa':df[df.Species=='setosa']['PetLength'],\n",
    "   'versicolor':df[df.Species=='versicolor']['PetLength'],\n",
    "   'virginica':df[df.Species=='virginica']['PetLength']}"
   ]
  },
  {
   "cell_type": "code",
   "execution_count": 37,
   "id": "31883765-352f-4b69-b0f8-64ed24bfc251",
   "metadata": {},
   "outputs": [
    {
     "data": {
      "image/png": "[encoded data removed]",
      "text/plain": [
       "<Figure size 1500x500 with 3 Axes>"
      ]
     },
     "metadata": {},
     "output_type": "display_data"
    }
   ],
   "source": [
    "fig,ax_1 = plt.subplots(nrows=1,ncols=3,figsize=(15,5),sharey=True,sharex=True)\n",
    "df.iloc[:,0:4].groupby(df.Species).boxplot(ax=ax_1);\n",
    "plt.show();"
   ]
  },
  {
   "attachments": {},
   "cell_type": "markdown",
   "id": "17d00c16-baa1-448d-9247-3f9c6786fef3",
   "metadata": {},
   "source": [
    "From above box plots I can observe\n",
    "\n",
    "Sepal length has overlapping values for versicolor and virginica\n",
    "Sepal width has overlapping values for versicolor and virginica\n",
    "Petal length has unique set of values for each species (there are no over lapping of values)\n",
    "Petal Width also has unique set of values for each species (there may be a slight overlapping for versicolor and virginica).\n",
    "From these observation I can choose ‘Petal Length’ and ‘Petal Width’ as the influential feature out of four features. For my analysis, I shall first choose the most influential feature ‘Petal Length’ and in the second iteration I shall include ‘Petal Width’ into my model."
   ]
  },
  {
   "cell_type": "code",
   "execution_count": 38,
   "id": "87eb6784-a2ca-4072-8e8e-0780205e1c2e",
   "metadata": {},
   "outputs": [],
   "source": [
    "type_dict = {'setosa':0,'versicolor':1,'virginica':2}\n",
    "df['Species']=[type_dict[i] for i in df['Species']]"
   ]
  },
  {
   "cell_type": "code",
   "execution_count": 39,
   "id": "0a9a64b3-dfab-41e6-99a6-0e9c292a3d20",
   "metadata": {},
   "outputs": [],
   "source": [
    "df_train_index=df.sample(frac=0.8,random_state=123).index"
   ]
  },
  {
   "cell_type": "code",
   "execution_count": 40,
   "id": "66bd78ce-c742-4bf3-93d3-e673d00b1ab8",
   "metadata": {},
   "outputs": [
    {
     "name": "stdout",
     "output_type": "stream",
     "text": [
      "number of train records= 116 | number of test records= 29\n"
     ]
    }
   ],
   "source": [
    "df_test_index=set(df.index).difference(set(df_train_index))\n",
    "print('number of train records=',len(df_train_index),'| number of test records=',len(df_test_index))"
   ]
  },
  {
   "cell_type": "code",
   "execution_count": 49,
   "id": "e92316f7-8452-40e4-9362-28575afdd3f5",
   "metadata": {},
   "outputs": [],
   "source": [
    "df_train = df.loc[df_train_index, :]\n",
    "df_test = df.loc[list(df_test_index), :]\n"
   ]
  },
  {
   "attachments": {},
   "cell_type": "markdown",
   "id": "66c3bc8f-6ff3-4d11-89cd-494681b62b52",
   "metadata": {},
   "source": [
    "Pick up only Petal length feature. Petal length feature is the 3rd coloumn i.e. 2nd index of the array.\n",
    "Reshape of the numpy array is done to make sure that the X_train is a column vector and also y_train is a column vector\n",
    "Reshaping of data is required before feeding it to the machine learning package. However for different packages, the requirement of data format varies."
   ]
  },
  {
   "cell_type": "code",
   "execution_count": 50,
   "id": "22c0ea8d-8404-48bc-84cd-456b0e1ee336",
   "metadata": {},
   "outputs": [],
   "source": [
    "X_train = df_train.values[:,2].reshape(-1,1)\n",
    "y_train = df_train.values[:,4].reshape(-1,1)"
   ]
  },
  {
   "cell_type": "code",
   "execution_count": 51,
   "id": "63b8baaa-e3ae-458c-8011-89ace8cf9409",
   "metadata": {},
   "outputs": [],
   "source": [
    "X_test = df_test.values[:,2].reshape(-1,1)\n",
    "y_test = df_test.values[:,4].reshape(-1,1)\n",
    "\n"
   ]
  },
  {
   "attachments": {},
   "cell_type": "markdown",
   "id": "aecce031-80b6-494b-b195-f483d066e73b",
   "metadata": {},
   "source": [
    "I shall use sklearn packages linear_model to create a logistic regression model"
   ]
  },
  {
   "cell_type": "code",
   "execution_count": 53,
   "id": "d3dfcf24-e615-40e1-9726-584d5524cdd2",
   "metadata": {},
   "outputs": [
    {
     "name": "stdout",
     "output_type": "stream",
     "text": [
      "Collecting scikit-learn\n",
      "  Downloading scikit_learn-1.3.0-cp311-cp311-win_amd64.whl (9.2 MB)\n",
      "                                              0.0/9.2 MB ? eta -:--:--\n",
      "                                              0.0/9.2 MB 1.3 MB/s eta 0:00:08\n",
      "                                              0.1/9.2 MB 1.1 MB/s eta 0:00:09\n",
      "                                              0.2/9.2 MB 1.3 MB/s eta 0:00:07\n",
      "     -                                        0.3/9.2 MB 1.8 MB/s eta 0:00:05\n",
      "     --                                       0.5/9.2 MB 2.4 MB/s eta 0:00:04\n",
      "     ---                                      0.7/9.2 MB 2.7 MB/s eta 0:00:04\n",
      "     ---                                      0.7/9.2 MB 2.7 MB/s eta 0:00:04\n",
      "     ----                                     1.0/9.2 MB 2.7 MB/s eta 0:00:04\n",
      "     -----                                    1.3/9.2 MB 3.3 MB/s eta 0:00:03\n",
      "     ------                                   1.5/9.2 MB 3.5 MB/s eta 0:00:03\n",
      "     ------                                   1.5/9.2 MB 3.5 MB/s eta 0:00:03\n",
      "     ------                                   1.5/9.2 MB 3.5 MB/s eta 0:00:03\n",
      "     ------                                   1.5/9.2 MB 3.5 MB/s eta 0:00:03\n",
      "     ---------                                2.2/9.2 MB 3.7 MB/s eta 0:00:02\n",
      "     ----------                               2.4/9.2 MB 3.7 MB/s eta 0:00:02\n",
      "     ----------                               2.5/9.2 MB 3.6 MB/s eta 0:00:02\n",
      "     -----------                              2.7/9.2 MB 3.6 MB/s eta 0:00:02\n",
      "     ------------                             2.9/9.2 MB 3.6 MB/s eta 0:00:02\n",
      "     -------------                            3.1/9.2 MB 3.7 MB/s eta 0:00:02\n",
      "     --------------                           3.3/9.2 MB 3.8 MB/s eta 0:00:02\n",
      "     ---------------                          3.5/9.2 MB 3.8 MB/s eta 0:00:02\n",
      "     ----------------                         3.7/9.2 MB 3.8 MB/s eta 0:00:02\n",
      "     ----------------                         3.9/9.2 MB 3.8 MB/s eta 0:00:02\n",
      "     -----------------                        4.1/9.2 MB 3.9 MB/s eta 0:00:02\n",
      "     ------------------                       4.3/9.2 MB 3.9 MB/s eta 0:00:02\n",
      "     -------------------                      4.6/9.2 MB 3.9 MB/s eta 0:00:02\n",
      "     --------------------                     4.8/9.2 MB 4.0 MB/s eta 0:00:02\n",
      "     ---------------------                    5.0/9.2 MB 4.0 MB/s eta 0:00:02\n",
      "     ----------------------                   5.2/9.2 MB 4.0 MB/s eta 0:00:02\n",
      "     -----------------------                  5.4/9.2 MB 4.0 MB/s eta 0:00:01\n",
      "     ------------------------                 5.6/9.2 MB 4.0 MB/s eta 0:00:01\n",
      "     -------------------------                5.8/9.2 MB 4.1 MB/s eta 0:00:01\n",
      "     --------------------------               6.0/9.2 MB 4.1 MB/s eta 0:00:01\n",
      "     ---------------------------              6.2/9.2 MB 4.1 MB/s eta 0:00:01\n",
      "     ---------------------------              6.4/9.2 MB 4.1 MB/s eta 0:00:01\n",
      "     ----------------------------             6.6/9.2 MB 4.2 MB/s eta 0:00:01\n",
      "     -----------------------------            6.8/9.2 MB 4.1 MB/s eta 0:00:01\n",
      "     ------------------------------           7.1/9.2 MB 4.1 MB/s eta 0:00:01\n",
      "     -------------------------------          7.3/9.2 MB 4.2 MB/s eta 0:00:01\n",
      "     --------------------------------         7.5/9.2 MB 4.2 MB/s eta 0:00:01\n",
      "     ---------------------------------        7.7/9.2 MB 4.2 MB/s eta 0:00:01\n",
      "     ----------------------------------       7.9/9.2 MB 4.2 MB/s eta 0:00:01\n",
      "     ----------------------------------       8.0/9.2 MB 4.2 MB/s eta 0:00:01\n",
      "     -----------------------------------      8.1/9.2 MB 4.1 MB/s eta 0:00:01\n",
      "     ------------------------------------     8.3/9.2 MB 4.2 MB/s eta 0:00:01\n",
      "     -------------------------------------    8.6/9.2 MB 4.2 MB/s eta 0:00:01\n",
      "     --------------------------------------   8.8/9.2 MB 4.2 MB/s eta 0:00:01\n",
      "     ---------------------------------------  9.0/9.2 MB 4.2 MB/s eta 0:00:01\n",
      "     ---------------------------------------  9.2/9.2 MB 4.2 MB/s eta 0:00:01\n",
      "     ---------------------------------------  9.2/9.2 MB 4.2 MB/s eta 0:00:01\n",
      "     ---------------------------------------  9.2/9.2 MB 4.2 MB/s eta 0:00:01\n",
      "     ---------------------------------------- 9.2/9.2 MB 3.9 MB/s eta 0:00:00\n",
      "Requirement already satisfied: numpy>=1.17.3 in c:\\users\\ferha\\appdata\\local\\packages\\pythonsoftwarefoundation.python.3.11_qbz5n2kfra8p0\\localcache\\local-packages\\python311\\site-packages (from scikit-learn) (1.25.0)\n",
      "Collecting scipy>=1.5.0 (from scikit-learn)\n",
      "  Downloading scipy-1.11.1-cp311-cp311-win_amd64.whl (44.0 MB)\n",
      "                                              0.0/44.0 MB ? eta -:--:--\n",
      "                                              0.3/44.0 MB 8.6 MB/s eta 0:00:06\n",
      "                                              0.5/44.0 MB 5.6 MB/s eta 0:00:08\n",
      "                                              0.6/44.0 MB 5.8 MB/s eta 0:00:08\n",
      "                                              0.9/44.0 MB 5.4 MB/s eta 0:00:08\n",
      "                                              1.1/44.0 MB 5.3 MB/s eta 0:00:09\n",
      "     -                                        1.3/44.0 MB 5.3 MB/s eta 0:00:09\n",
      "     -                                        1.6/44.0 MB 5.3 MB/s eta 0:00:09\n",
      "     -                                        1.8/44.0 MB 5.2 MB/s eta 0:00:09\n",
      "     -                                        2.0/44.0 MB 5.2 MB/s eta 0:00:09\n",
      "     --                                       2.3/44.0 MB 5.2 MB/s eta 0:00:08\n",
      "     --                                       2.5/44.0 MB 5.2 MB/s eta 0:00:09\n",
      "     --                                       2.8/44.0 MB 5.2 MB/s eta 0:00:08\n",
      "     --                                       3.1/44.0 MB 5.3 MB/s eta 0:00:08\n",
      "     --                                       3.3/44.0 MB 5.2 MB/s eta 0:00:08\n",
      "     ---                                      3.6/44.0 MB 5.3 MB/s eta 0:00:08\n",
      "     ---                                      3.8/44.0 MB 5.2 MB/s eta 0:00:08\n",
      "     ---                                      4.0/44.0 MB 5.2 MB/s eta 0:00:08\n",
      "     ---                                      4.2/44.0 MB 5.2 MB/s eta 0:00:08\n",
      "     ----                                     4.4/44.0 MB 5.1 MB/s eta 0:00:08\n",
      "     ----                                     4.7/44.0 MB 5.2 MB/s eta 0:00:08\n",
      "     ----                                     4.9/44.0 MB 5.2 MB/s eta 0:00:08\n",
      "     ----                                     5.1/44.0 MB 5.2 MB/s eta 0:00:08\n",
      "     ----                                     5.4/44.0 MB 5.3 MB/s eta 0:00:08\n",
      "     -----                                    5.6/44.0 MB 5.3 MB/s eta 0:00:08\n",
      "     -----                                    5.9/44.0 MB 5.2 MB/s eta 0:00:08\n",
      "     -----                                    6.1/44.0 MB 5.3 MB/s eta 0:00:08\n",
      "     -----                                    6.4/44.0 MB 5.2 MB/s eta 0:00:08\n",
      "     ------                                   6.6/44.0 MB 5.3 MB/s eta 0:00:08\n",
      "     ------                                   6.8/44.0 MB 5.3 MB/s eta 0:00:08\n",
      "     ------                                   7.1/44.0 MB 5.3 MB/s eta 0:00:08\n",
      "     ------                                   7.3/44.0 MB 5.2 MB/s eta 0:00:08\n",
      "     ------                                   7.5/44.0 MB 5.2 MB/s eta 0:00:07\n",
      "     -------                                  7.8/44.0 MB 5.2 MB/s eta 0:00:07\n",
      "     -------                                  8.0/44.0 MB 5.3 MB/s eta 0:00:07\n",
      "     -------                                  8.3/44.0 MB 5.2 MB/s eta 0:00:07\n",
      "     -------                                  8.5/44.0 MB 5.2 MB/s eta 0:00:07\n",
      "     -------                                  8.8/44.0 MB 5.2 MB/s eta 0:00:07\n",
      "     --------                                 9.0/44.0 MB 5.2 MB/s eta 0:00:07\n",
      "     --------                                 9.3/44.0 MB 5.2 MB/s eta 0:00:07\n",
      "     --------                                 9.5/44.0 MB 5.2 MB/s eta 0:00:07\n",
      "     --------                                 9.7/44.0 MB 5.2 MB/s eta 0:00:07\n",
      "     ---------                                10.0/44.0 MB 5.2 MB/s eta 0:00:07\n",
      "     ---------                                10.2/44.0 MB 5.2 MB/s eta 0:00:07\n",
      "     ---------                                10.4/44.0 MB 5.2 MB/s eta 0:00:07\n",
      "     ---------                                10.7/44.0 MB 5.2 MB/s eta 0:00:07\n",
      "     ---------                                10.9/44.0 MB 5.2 MB/s eta 0:00:07\n",
      "     ----------                               11.1/44.0 MB 5.2 MB/s eta 0:00:07\n",
      "     ----------                               11.4/44.0 MB 5.2 MB/s eta 0:00:07\n",
      "     ----------                               11.7/44.0 MB 5.2 MB/s eta 0:00:07\n",
      "     ----------                               11.8/44.0 MB 5.2 MB/s eta 0:00:07\n",
      "     -----------                              12.1/44.0 MB 5.2 MB/s eta 0:00:07\n",
      "     -----------                              12.3/44.0 MB 5.2 MB/s eta 0:00:07\n",
      "     -----------                              12.6/44.0 MB 5.2 MB/s eta 0:00:06\n",
      "     -----------                              12.8/44.0 MB 5.2 MB/s eta 0:00:06\n",
      "     -----------                              13.1/44.0 MB 5.2 MB/s eta 0:00:06\n",
      "     ------------                             13.3/44.0 MB 5.2 MB/s eta 0:00:06\n",
      "     ------------                             13.6/44.0 MB 5.2 MB/s eta 0:00:06\n",
      "     ------------                             13.9/44.0 MB 5.3 MB/s eta 0:00:06\n",
      "     ------------                             14.1/44.0 MB 5.2 MB/s eta 0:00:06\n",
      "     -------------                            14.3/44.0 MB 5.2 MB/s eta 0:00:06\n",
      "     -------------                            14.6/44.0 MB 5.3 MB/s eta 0:00:06\n",
      "     -------------                            14.9/44.0 MB 5.2 MB/s eta 0:00:06\n",
      "     -------------                            15.1/44.0 MB 5.3 MB/s eta 0:00:06\n",
      "     -------------                            15.3/44.0 MB 5.3 MB/s eta 0:00:06\n",
      "     --------------                           15.6/44.0 MB 5.2 MB/s eta 0:00:06\n",
      "     --------------                           15.8/44.0 MB 5.3 MB/s eta 0:00:06\n",
      "     --------------                           16.1/44.0 MB 5.3 MB/s eta 0:00:06\n",
      "     --------------                           16.3/44.0 MB 5.3 MB/s eta 0:00:06\n",
      "     ---------------                          16.6/44.0 MB 5.3 MB/s eta 0:00:06\n",
      "     ---------------                          16.8/44.0 MB 5.3 MB/s eta 0:00:06\n",
      "     ---------------                          17.1/44.0 MB 5.3 MB/s eta 0:00:06\n",
      "     ---------------                          17.4/44.0 MB 5.3 MB/s eta 0:00:06\n",
      "     ----------------                         17.6/44.0 MB 5.3 MB/s eta 0:00:05\n",
      "     ----------------                         17.9/44.0 MB 5.3 MB/s eta 0:00:05\n",
      "     ----------------                         18.1/44.0 MB 5.3 MB/s eta 0:00:05\n",
      "     ----------------                         18.4/44.0 MB 5.3 MB/s eta 0:00:05\n",
      "     ----------------                         18.6/44.0 MB 5.4 MB/s eta 0:00:05\n",
      "     -----------------                        18.9/44.0 MB 5.4 MB/s eta 0:00:05\n",
      "     -----------------                        19.2/44.0 MB 5.3 MB/s eta 0:00:05\n",
      "     -----------------                        19.4/44.0 MB 5.3 MB/s eta 0:00:05\n",
      "     -----------------                        19.7/44.0 MB 5.4 MB/s eta 0:00:05\n",
      "     ------------------                       19.9/44.0 MB 5.4 MB/s eta 0:00:05\n",
      "     ------------------                       20.1/44.0 MB 5.4 MB/s eta 0:00:05\n",
      "     ------------------                       20.4/44.0 MB 5.4 MB/s eta 0:00:05\n",
      "     ------------------                       20.6/44.0 MB 5.4 MB/s eta 0:00:05\n",
      "     ------------------                       20.8/44.0 MB 5.4 MB/s eta 0:00:05\n",
      "     -------------------                      21.2/44.0 MB 5.4 MB/s eta 0:00:05\n",
      "     -------------------                      21.5/44.0 MB 5.4 MB/s eta 0:00:05\n",
      "     -------------------                      21.7/44.0 MB 5.4 MB/s eta 0:00:05\n",
      "     -------------------                      22.0/44.0 MB 5.4 MB/s eta 0:00:05\n",
      "     --------------------                     22.2/44.0 MB 5.4 MB/s eta 0:00:05\n",
      "     --------------------                     22.4/44.0 MB 5.4 MB/s eta 0:00:05\n",
      "     --------------------                     22.6/44.0 MB 5.4 MB/s eta 0:00:04\n",
      "     --------------------                     22.9/44.0 MB 5.4 MB/s eta 0:00:04\n",
      "     --------------------                     23.1/44.0 MB 5.4 MB/s eta 0:00:04\n",
      "     ---------------------                    23.3/44.0 MB 5.4 MB/s eta 0:00:04\n",
      "     ---------------------                    23.6/44.0 MB 5.4 MB/s eta 0:00:04\n",
      "     ---------------------                    23.8/44.0 MB 5.4 MB/s eta 0:00:04\n",
      "     ---------------------                    24.1/44.0 MB 5.4 MB/s eta 0:00:04\n",
      "     ----------------------                   24.3/44.0 MB 5.4 MB/s eta 0:00:04\n",
      "     ----------------------                   24.6/44.0 MB 5.4 MB/s eta 0:00:04\n",
      "     ----------------------                   24.9/44.0 MB 5.4 MB/s eta 0:00:04\n",
      "     ----------------------                   25.2/44.0 MB 5.4 MB/s eta 0:00:04\n",
      "     -----------------------                  25.5/44.0 MB 5.4 MB/s eta 0:00:04\n",
      "     -----------------------                  25.7/44.0 MB 5.4 MB/s eta 0:00:04\n",
      "     -----------------------                  26.0/44.0 MB 5.4 MB/s eta 0:00:04\n",
      "     -----------------------                  26.2/44.0 MB 5.4 MB/s eta 0:00:04\n",
      "     ------------------------                 26.5/44.0 MB 5.4 MB/s eta 0:00:04\n",
      "     ------------------------                 26.8/44.0 MB 5.4 MB/s eta 0:00:04\n",
      "     ------------------------                 27.1/44.0 MB 5.4 MB/s eta 0:00:04\n",
      "     ------------------------                 27.3/44.0 MB 5.3 MB/s eta 0:00:04\n",
      "     -------------------------                27.6/44.0 MB 5.4 MB/s eta 0:00:04\n",
      "     -------------------------                27.8/44.0 MB 5.4 MB/s eta 0:00:04\n",
      "     -------------------------                28.0/44.0 MB 5.4 MB/s eta 0:00:03\n",
      "     -------------------------                28.3/44.0 MB 5.4 MB/s eta 0:00:03\n",
      "     -------------------------                28.5/44.0 MB 5.4 MB/s eta 0:00:03\n",
      "     --------------------------               28.7/44.0 MB 5.4 MB/s eta 0:00:03\n",
      "     --------------------------               29.0/44.0 MB 5.4 MB/s eta 0:00:03\n",
      "     --------------------------               29.2/44.0 MB 5.4 MB/s eta 0:00:03\n",
      "     --------------------------               29.5/44.0 MB 5.4 MB/s eta 0:00:03\n",
      "     ---------------------------              29.7/44.0 MB 5.4 MB/s eta 0:00:03\n",
      "     ---------------------------              29.9/44.0 MB 5.4 MB/s eta 0:00:03\n",
      "     ---------------------------              30.2/44.0 MB 5.4 MB/s eta 0:00:03\n",
      "     ---------------------------              30.4/44.0 MB 5.4 MB/s eta 0:00:03\n",
      "     ---------------------------              30.7/44.0 MB 5.4 MB/s eta 0:00:03\n",
      "     ----------------------------             30.9/44.0 MB 5.4 MB/s eta 0:00:03\n",
      "     ----------------------------             31.2/44.0 MB 5.5 MB/s eta 0:00:03\n",
      "     ----------------------------             31.5/44.0 MB 5.5 MB/s eta 0:00:03\n",
      "     ----------------------------             31.7/44.0 MB 5.5 MB/s eta 0:00:03\n",
      "     -----------------------------            31.9/44.0 MB 5.5 MB/s eta 0:00:03\n",
      "     -----------------------------            32.2/44.0 MB 5.5 MB/s eta 0:00:03\n",
      "     -----------------------------            32.5/44.0 MB 5.5 MB/s eta 0:00:03\n",
      "     -----------------------------            32.7/44.0 MB 5.5 MB/s eta 0:00:03\n",
      "     ------------------------------           33.0/44.0 MB 5.5 MB/s eta 0:00:02\n",
      "     ------------------------------           33.3/44.0 MB 5.5 MB/s eta 0:00:02\n",
      "     ------------------------------           33.5/44.0 MB 5.5 MB/s eta 0:00:02\n",
      "     ------------------------------           33.8/44.0 MB 5.6 MB/s eta 0:00:02\n",
      "     -------------------------------          34.1/44.0 MB 5.6 MB/s eta 0:00:02\n",
      "     -------------------------------          34.3/44.0 MB 5.6 MB/s eta 0:00:02\n",
      "     -------------------------------          34.6/44.0 MB 5.6 MB/s eta 0:00:02\n",
      "     -------------------------------          35.0/44.0 MB 5.6 MB/s eta 0:00:02\n",
      "     --------------------------------         35.2/44.0 MB 5.6 MB/s eta 0:00:02\n",
      "     --------------------------------         35.6/44.0 MB 5.6 MB/s eta 0:00:02\n",
      "     --------------------------------         35.8/44.0 MB 5.6 MB/s eta 0:00:02\n",
      "     --------------------------------         36.1/44.0 MB 5.6 MB/s eta 0:00:02\n",
      "     ---------------------------------        36.4/44.0 MB 5.6 MB/s eta 0:00:02\n",
      "     ---------------------------------        36.7/44.0 MB 5.6 MB/s eta 0:00:02\n",
      "     ---------------------------------        37.0/44.0 MB 5.6 MB/s eta 0:00:02\n",
      "     ---------------------------------        37.2/44.0 MB 5.7 MB/s eta 0:00:02\n",
      "     ----------------------------------       37.5/44.0 MB 5.7 MB/s eta 0:00:02\n",
      "     ----------------------------------       37.7/44.0 MB 5.7 MB/s eta 0:00:02\n",
      "     ----------------------------------       38.0/44.0 MB 5.7 MB/s eta 0:00:02\n",
      "     ----------------------------------       38.2/44.0 MB 5.7 MB/s eta 0:00:01\n",
      "     -----------------------------------      38.5/44.0 MB 5.7 MB/s eta 0:00:01\n",
      "     -----------------------------------      38.8/44.0 MB 5.8 MB/s eta 0:00:01\n",
      "     -----------------------------------      39.0/44.0 MB 5.8 MB/s eta 0:00:01\n",
      "     -----------------------------------      39.3/44.0 MB 5.8 MB/s eta 0:00:01\n",
      "     -----------------------------------      39.5/44.0 MB 5.8 MB/s eta 0:00:01\n",
      "     ------------------------------------     39.8/44.0 MB 5.8 MB/s eta 0:00:01\n",
      "     ------------------------------------     40.1/44.0 MB 5.8 MB/s eta 0:00:01\n",
      "     ------------------------------------     40.4/44.0 MB 5.8 MB/s eta 0:00:01\n",
      "     -------------------------------------    40.7/44.0 MB 5.8 MB/s eta 0:00:01\n",
      "     -------------------------------------    41.0/44.0 MB 5.8 MB/s eta 0:00:01\n",
      "     -------------------------------------    41.2/44.0 MB 5.8 MB/s eta 0:00:01\n",
      "     -------------------------------------    41.5/44.0 MB 5.9 MB/s eta 0:00:01\n",
      "     --------------------------------------   41.9/44.0 MB 5.8 MB/s eta 0:00:01\n",
      "     --------------------------------------   42.2/44.0 MB 5.9 MB/s eta 0:00:01\n",
      "     --------------------------------------   42.4/44.0 MB 5.9 MB/s eta 0:00:01\n",
      "     --------------------------------------   42.7/44.0 MB 5.8 MB/s eta 0:00:01\n",
      "     ---------------------------------------  43.1/44.0 MB 6.0 MB/s eta 0:00:01\n",
      "     ---------------------------------------  43.4/44.0 MB 5.9 MB/s eta 0:00:01\n",
      "     ---------------------------------------  43.7/44.0 MB 5.9 MB/s eta 0:00:01\n",
      "     ---------------------------------------  44.0/44.0 MB 5.9 MB/s eta 0:00:01\n",
      "     ---------------------------------------  44.0/44.0 MB 5.9 MB/s eta 0:00:01\n",
      "     ---------------------------------------  44.0/44.0 MB 5.9 MB/s eta 0:00:01\n",
      "     ---------------------------------------  44.0/44.0 MB 5.9 MB/s eta 0:00:01\n",
      "     ---------------------------------------  44.0/44.0 MB 5.9 MB/s eta 0:00:01\n",
      "     ---------------------------------------  44.0/44.0 MB 5.9 MB/s eta 0:00:01\n",
      "     ---------------------------------------  44.0/44.0 MB 5.9 MB/s eta 0:00:01\n",
      "     ---------------------------------------- 44.0/44.0 MB 4.6 MB/s eta 0:00:00\n",
      "Collecting joblib>=1.1.1 (from scikit-learn)\n",
      "  Downloading joblib-1.3.1-py3-none-any.whl (301 kB)\n",
      "                                              0.0/302.0 kB ? eta -:--:--\n",
      "     -------------------------------------  297.0/302.0 kB 6.1 MB/s eta 0:00:01\n",
      "     -------------------------------------  297.0/302.0 kB 6.1 MB/s eta 0:00:01\n",
      "     -------------------------------------- 302.0/302.0 kB 2.7 MB/s eta 0:00:00\n",
      "Collecting threadpoolctl>=2.0.0 (from scikit-learn)\n",
      "  Downloading threadpoolctl-3.1.0-py3-none-any.whl (14 kB)\n",
      "Installing collected packages: threadpoolctl, scipy, joblib, scikit-learn\n",
      "Successfully installed joblib-1.3.1 scikit-learn-1.3.0 scipy-1.11.1 threadpoolctl-3.1.0\n"
     ]
    }
   ],
   "source": [
    "!pip install scikit-learn\n",
    "\n",
    "from sklearn.linear_model import LogisticRegression"
   ]
  },
  {
   "cell_type": "code",
   "execution_count": 54,
   "id": "991122cd-e615-4fee-9ac7-daea2465df26",
   "metadata": {},
   "outputs": [],
   "source": [
    "lr_Petal_Length=LogisticRegression(random_state=123)"
   ]
  },
  {
   "attachments": {},
   "cell_type": "markdown",
   "id": "29154f61-47ba-4c40-a67b-c42f9a021c73",
   "metadata": {},
   "source": [
    "Fit train data to the model. This fit() method will find optimal values of coefficients by multiple iterations."
   ]
  },
  {
   "cell_type": "code",
   "execution_count": 55,
   "id": "8cee83eb-9cff-4999-ac55-1cd968c8e865",
   "metadata": {},
   "outputs": [
    {
     "data": {
      "text/html": [
       "<style>#sk-container-id-1 {color: black;}#sk-container-id-1 pre{padding: 0;}#sk-container-id-1 div.sk-toggleable {background-color: white;}#sk-container-id-1 label.sk-toggleable__label {cursor: pointer;display: block;width: 100%;margin-bottom: 0;padding: 0.3em;box-sizing: border-box;text-align: center;}#sk-container-id-1 label.sk-toggleable__label-arrow:before {content: \"▸\";float: left;margin-right: 0.25em;color: #696969;}#sk-container-id-1 label.sk-toggleable__label-arrow:hover:before {color: black;}#sk-container-id-1 div.sk-estimator:hover label.sk-toggleable__label-arrow:before {color: black;}#sk-container-id-1 div.sk-toggleable__content {max-height: 0;max-width: 0;overflow: hidden;text-align: left;background-color: #f0f8ff;}#sk-container-id-1 div.sk-toggleable__content pre {margin: 0.2em;color: black;border-radius: 0.25em;background-color: #f0f8ff;}#sk-container-id-1 input.sk-toggleable__control:checked~div.sk-toggleable__content {max-height: 200px;max-width: 100%;overflow: auto;}#sk-container-id-1 input.sk-toggleable__control:checked~label.sk-toggleable__label-arrow:before {content: \"▾\";}#sk-container-id-1 div.sk-estimator input.sk-toggleable__control:checked~label.sk-toggleable__label {background-color: #d4ebff;}#sk-container-id-1 div.sk-label input.sk-toggleable__control:checked~label.sk-toggleable__label {background-color: #d4ebff;}#sk-container-id-1 input.sk-hidden--visually {border: 0;clip: rect(1px 1px 1px 1px);clip: rect(1px, 1px, 1px, 1px);height: 1px;margin: -1px;overflow: hidden;padding: 0;position: absolute;width: 1px;}#sk-container-id-1 div.sk-estimator {font-family: monospace;background-color: #f0f8ff;border: 1px dotted black;border-radius: 0.25em;box-sizing: border-box;margin-bottom: 0.5em;}#sk-container-id-1 div.sk-estimator:hover {background-color: #d4ebff;}#sk-container-id-1 div.sk-parallel-item::after {content: \"\";width: 100%;border-bottom: 1px solid gray;flex-grow: 1;}#sk-container-id-1 div.sk-label:hover label.sk-toggleable__label {background-color: #d4ebff;}#sk-container-id-1 div.sk-serial::before {content: \"\";position: absolute;border-left: 1px solid gray;box-sizing: border-box;top: 0;bottom: 0;left: 50%;z-index: 0;}#sk-container-id-1 div.sk-serial {display: flex;flex-direction: column;align-items: center;background-color: white;padding-right: 0.2em;padding-left: 0.2em;position: relative;}#sk-container-id-1 div.sk-item {position: relative;z-index: 1;}#sk-container-id-1 div.sk-parallel {display: flex;align-items: stretch;justify-content: center;background-color: white;position: relative;}#sk-container-id-1 div.sk-item::before, #sk-container-id-1 div.sk-parallel-item::before {content: \"\";position: absolute;border-left: 1px solid gray;box-sizing: border-box;top: 0;bottom: 0;left: 50%;z-index: -1;}#sk-container-id-1 div.sk-parallel-item {display: flex;flex-direction: column;z-index: 1;position: relative;background-color: white;}#sk-container-id-1 div.sk-parallel-item:first-child::after {align-self: flex-end;width: 50%;}#sk-container-id-1 div.sk-parallel-item:last-child::after {align-self: flex-start;width: 50%;}#sk-container-id-1 div.sk-parallel-item:only-child::after {width: 0;}#sk-container-id-1 div.sk-dashed-wrapped {border: 1px dashed gray;margin: 0 0.4em 0.5em 0.4em;box-sizing: border-box;padding-bottom: 0.4em;background-color: white;}#sk-container-id-1 div.sk-label label {font-family: monospace;font-weight: bold;display: inline-block;line-height: 1.2em;}#sk-container-id-1 div.sk-label-container {text-align: center;}#sk-container-id-1 div.sk-container {/* jupyter's `normalize.less` sets `[hidden] { display: none; }` but bootstrap.min.css set `[hidden] { display: none !important; }` so we also need the `!important` here to be able to override the default hidden behavior on the sphinx rendered scikit-learn.org. See: https://github.com/scikit-learn/scikit-learn/issues/21755 */display: inline-block !important;position: relative;}#sk-container-id-1 div.sk-text-repr-fallback {display: none;}</style><div id=\"sk-container-id-1\" class=\"sk-top-container\"><div class=\"sk-text-repr-fallback\"><pre>LogisticRegression(random_state=123)</pre><b>In a Jupyter environment, please rerun this cell to show the HTML representation or trust the notebook. <br />On GitHub, the HTML representation is unable to render, please try loading this page with nbviewer.org.</b></div><div class=\"sk-container\" hidden><div class=\"sk-item\"><div class=\"sk-estimator sk-toggleable\"><input class=\"sk-toggleable__control sk-hidden--visually\" id=\"sk-estimator-id-1\" type=\"checkbox\" checked><label for=\"sk-estimator-id-1\" class=\"sk-toggleable__label sk-toggleable__label-arrow\">LogisticRegression</label><div class=\"sk-toggleable__content\"><pre>LogisticRegression(random_state=123)</pre></div></div></div></div></div>"
      ],
      "text/plain": [
       "LogisticRegression(random_state=123)"
      ]
     },
     "execution_count": 55,
     "metadata": {},
     "output_type": "execute_result"
    }
   ],
   "source": [
    "lr_Petal_Length.fit(X_train,y_train)\n",
    "LogisticRegression(random_state=123)"
   ]
  },
  {
   "cell_type": "code",
   "execution_count": 56,
   "id": "bb83e8c2-78b9-4872-a652-5b269bc522ff",
   "metadata": {},
   "outputs": [
    {
     "name": "stdout",
     "output_type": "stream",
     "text": [
      "Train accuracy = 0.9655172413793104 | Test Accuracy = 0.9310344827586207\n"
     ]
    }
   ],
   "source": [
    "print('Train accuracy =',lr_Petal_Length.score(X_train,y_train), '| Test Accuracy =',lr_Petal_Length.score(X_test,y_test))"
   ]
  },
  {
   "attachments": {},
   "cell_type": "markdown",
   "id": "d8707632-74f4-4ffe-b583-352bf69ca8e4",
   "metadata": {},
   "source": [
    "This model is created using only one feature ‘Petal Length’. With only one feature we get the test accuracy as 86%. This feature is the most influential to determine the type of species.\n",
    "\n",
    "By choosing the most influential/important feature I have created a machine learning model which is simple but gives good accuracy. Next time some one approaches to me with data of Iris flower to identify its type, I shall tell him only to give me Petal Length and other features are not required.\n",
    "\n",
    "This is the power of selecting correct feature.\n",
    "\n",
    "coefficients of my model are as below."
   ]
  },
  {
   "cell_type": "code",
   "execution_count": 57,
   "id": "47cfc7c4-d28c-487f-8152-a143028453d2",
   "metadata": {},
   "outputs": [
    {
     "name": "stdout",
     "output_type": "stream",
     "text": [
      "coefficient= [[-2.95084258]\n",
      " [-0.30267703]\n",
      " [ 3.25351961]] \n",
      "intercept= [ 10.67051202   3.24288513 -13.91339715] \n",
      "number of iterations [23]\n"
     ]
    }
   ],
   "source": [
    "print('coefficient=',lr_Petal_Length.coef_,'\\nintercept=',lr_Petal_Length.intercept_,'\\nnumber of iterations',lr_Petal_Length.n_iter_)"
   ]
  },
  {
   "attachments": {},
   "cell_type": "markdown",
   "id": "a037ef94-0290-410f-8bde-baec3b889aa7",
   "metadata": {},
   "source": [
    "Two Features (Petal Length and Petal Width)"
   ]
  },
  {
   "cell_type": "code",
   "execution_count": 58,
   "id": "8cb56d27-0211-4721-ba98-f07a844dceef",
   "metadata": {},
   "outputs": [],
   "source": [
    "X_train = df_train.values[:,2:4]\n",
    "y_train = df_train.values[:,4].reshape(-1,1)"
   ]
  },
  {
   "cell_type": "code",
   "execution_count": 59,
   "id": "091ca3bc-2d72-4607-9f9a-3dd4349e71e2",
   "metadata": {},
   "outputs": [],
   "source": [
    "X_test = df_test.values[:,2:4]\n",
    "y_test = df_test.values[:,4].reshape(-1,1)"
   ]
  },
  {
   "cell_type": "code",
   "execution_count": 60,
   "id": "641681ff-bb8c-4664-9549-e6fa980df5e1",
   "metadata": {},
   "outputs": [
    {
     "data": {
      "text/html": [
       "<style>#sk-container-id-2 {color: black;}#sk-container-id-2 pre{padding: 0;}#sk-container-id-2 div.sk-toggleable {background-color: white;}#sk-container-id-2 label.sk-toggleable__label {cursor: pointer;display: block;width: 100%;margin-bottom: 0;padding: 0.3em;box-sizing: border-box;text-align: center;}#sk-container-id-2 label.sk-toggleable__label-arrow:before {content: \"▸\";float: left;margin-right: 0.25em;color: #696969;}#sk-container-id-2 label.sk-toggleable__label-arrow:hover:before {color: black;}#sk-container-id-2 div.sk-estimator:hover label.sk-toggleable__label-arrow:before {color: black;}#sk-container-id-2 div.sk-toggleable__content {max-height: 0;max-width: 0;overflow: hidden;text-align: left;background-color: #f0f8ff;}#sk-container-id-2 div.sk-toggleable__content pre {margin: 0.2em;color: black;border-radius: 0.25em;background-color: #f0f8ff;}#sk-container-id-2 input.sk-toggleable__control:checked~div.sk-toggleable__content {max-height: 200px;max-width: 100%;overflow: auto;}#sk-container-id-2 input.sk-toggleable__control:checked~label.sk-toggleable__label-arrow:before {content: \"▾\";}#sk-container-id-2 div.sk-estimator input.sk-toggleable__control:checked~label.sk-toggleable__label {background-color: #d4ebff;}#sk-container-id-2 div.sk-label input.sk-toggleable__control:checked~label.sk-toggleable__label {background-color: #d4ebff;}#sk-container-id-2 input.sk-hidden--visually {border: 0;clip: rect(1px 1px 1px 1px);clip: rect(1px, 1px, 1px, 1px);height: 1px;margin: -1px;overflow: hidden;padding: 0;position: absolute;width: 1px;}#sk-container-id-2 div.sk-estimator {font-family: monospace;background-color: #f0f8ff;border: 1px dotted black;border-radius: 0.25em;box-sizing: border-box;margin-bottom: 0.5em;}#sk-container-id-2 div.sk-estimator:hover {background-color: #d4ebff;}#sk-container-id-2 div.sk-parallel-item::after {content: \"\";width: 100%;border-bottom: 1px solid gray;flex-grow: 1;}#sk-container-id-2 div.sk-label:hover label.sk-toggleable__label {background-color: #d4ebff;}#sk-container-id-2 div.sk-serial::before {content: \"\";position: absolute;border-left: 1px solid gray;box-sizing: border-box;top: 0;bottom: 0;left: 50%;z-index: 0;}#sk-container-id-2 div.sk-serial {display: flex;flex-direction: column;align-items: center;background-color: white;padding-right: 0.2em;padding-left: 0.2em;position: relative;}#sk-container-id-2 div.sk-item {position: relative;z-index: 1;}#sk-container-id-2 div.sk-parallel {display: flex;align-items: stretch;justify-content: center;background-color: white;position: relative;}#sk-container-id-2 div.sk-item::before, #sk-container-id-2 div.sk-parallel-item::before {content: \"\";position: absolute;border-left: 1px solid gray;box-sizing: border-box;top: 0;bottom: 0;left: 50%;z-index: -1;}#sk-container-id-2 div.sk-parallel-item {display: flex;flex-direction: column;z-index: 1;position: relative;background-color: white;}#sk-container-id-2 div.sk-parallel-item:first-child::after {align-self: flex-end;width: 50%;}#sk-container-id-2 div.sk-parallel-item:last-child::after {align-self: flex-start;width: 50%;}#sk-container-id-2 div.sk-parallel-item:only-child::after {width: 0;}#sk-container-id-2 div.sk-dashed-wrapped {border: 1px dashed gray;margin: 0 0.4em 0.5em 0.4em;box-sizing: border-box;padding-bottom: 0.4em;background-color: white;}#sk-container-id-2 div.sk-label label {font-family: monospace;font-weight: bold;display: inline-block;line-height: 1.2em;}#sk-container-id-2 div.sk-label-container {text-align: center;}#sk-container-id-2 div.sk-container {/* jupyter's `normalize.less` sets `[hidden] { display: none; }` but bootstrap.min.css set `[hidden] { display: none !important; }` so we also need the `!important` here to be able to override the default hidden behavior on the sphinx rendered scikit-learn.org. See: https://github.com/scikit-learn/scikit-learn/issues/21755 */display: inline-block !important;position: relative;}#sk-container-id-2 div.sk-text-repr-fallback {display: none;}</style><div id=\"sk-container-id-2\" class=\"sk-top-container\"><div class=\"sk-text-repr-fallback\"><pre>LogisticRegression(random_state=123)</pre><b>In a Jupyter environment, please rerun this cell to show the HTML representation or trust the notebook. <br />On GitHub, the HTML representation is unable to render, please try loading this page with nbviewer.org.</b></div><div class=\"sk-container\" hidden><div class=\"sk-item\"><div class=\"sk-estimator sk-toggleable\"><input class=\"sk-toggleable__control sk-hidden--visually\" id=\"sk-estimator-id-2\" type=\"checkbox\" checked><label for=\"sk-estimator-id-2\" class=\"sk-toggleable__label sk-toggleable__label-arrow\">LogisticRegression</label><div class=\"sk-toggleable__content\"><pre>LogisticRegression(random_state=123)</pre></div></div></div></div></div>"
      ],
      "text/plain": [
       "LogisticRegression(random_state=123)"
      ]
     },
     "execution_count": 60,
     "metadata": {},
     "output_type": "execute_result"
    }
   ],
   "source": [
    "lr_petLength_width=LogisticRegression(random_state=123)\n",
    "lr_petLength_width.fit(X_train,y_train)"
   ]
  },
  {
   "cell_type": "code",
   "execution_count": 61,
   "id": "caa10111-22dc-4647-8477-4f5da3f98865",
   "metadata": {},
   "outputs": [
    {
     "name": "stdout",
     "output_type": "stream",
     "text": [
      "Train accuracy= 0.9913793103448276 Test accuracy= 0.9310344827586207\n"
     ]
    }
   ],
   "source": [
    "print('Train accuracy=',lr_petLength_width.score(X_train,y_train),'Test accuracy=',lr_petLength_width.score(X_test,y_test))"
   ]
  },
  {
   "attachments": {},
   "cell_type": "markdown",
   "id": "799f9f67-9618-4af9-afe3-388fc752c236",
   "metadata": {},
   "source": [
    "Three Features (Petal Length & Width and Sepal Width)"
   ]
  },
  {
   "cell_type": "code",
   "execution_count": 62,
   "id": "96a5f52f-d01c-4824-bb74-fad8614a51cb",
   "metadata": {},
   "outputs": [],
   "source": [
    "X_train = df_train.values[:,1:4]\n",
    "y_train = df_train.values[:,4].reshape(-1,1)"
   ]
  },
  {
   "cell_type": "code",
   "execution_count": 63,
   "id": "6f529467-07e6-4473-827f-523880e9f0bf",
   "metadata": {},
   "outputs": [],
   "source": [
    "X_test = df_test.values[:,1:4]\n",
    "y_test = df_test.values[:,4].reshape(-1,1)"
   ]
  },
  {
   "cell_type": "code",
   "execution_count": 64,
   "id": "4b50ac7c-de6d-402b-af71-e81df1927e87",
   "metadata": {},
   "outputs": [
    {
     "data": {
      "text/html": [
       "<style>#sk-container-id-3 {color: black;}#sk-container-id-3 pre{padding: 0;}#sk-container-id-3 div.sk-toggleable {background-color: white;}#sk-container-id-3 label.sk-toggleable__label {cursor: pointer;display: block;width: 100%;margin-bottom: 0;padding: 0.3em;box-sizing: border-box;text-align: center;}#sk-container-id-3 label.sk-toggleable__label-arrow:before {content: \"▸\";float: left;margin-right: 0.25em;color: #696969;}#sk-container-id-3 label.sk-toggleable__label-arrow:hover:before {color: black;}#sk-container-id-3 div.sk-estimator:hover label.sk-toggleable__label-arrow:before {color: black;}#sk-container-id-3 div.sk-toggleable__content {max-height: 0;max-width: 0;overflow: hidden;text-align: left;background-color: #f0f8ff;}#sk-container-id-3 div.sk-toggleable__content pre {margin: 0.2em;color: black;border-radius: 0.25em;background-color: #f0f8ff;}#sk-container-id-3 input.sk-toggleable__control:checked~div.sk-toggleable__content {max-height: 200px;max-width: 100%;overflow: auto;}#sk-container-id-3 input.sk-toggleable__control:checked~label.sk-toggleable__label-arrow:before {content: \"▾\";}#sk-container-id-3 div.sk-estimator input.sk-toggleable__control:checked~label.sk-toggleable__label {background-color: #d4ebff;}#sk-container-id-3 div.sk-label input.sk-toggleable__control:checked~label.sk-toggleable__label {background-color: #d4ebff;}#sk-container-id-3 input.sk-hidden--visually {border: 0;clip: rect(1px 1px 1px 1px);clip: rect(1px, 1px, 1px, 1px);height: 1px;margin: -1px;overflow: hidden;padding: 0;position: absolute;width: 1px;}#sk-container-id-3 div.sk-estimator {font-family: monospace;background-color: #f0f8ff;border: 1px dotted black;border-radius: 0.25em;box-sizing: border-box;margin-bottom: 0.5em;}#sk-container-id-3 div.sk-estimator:hover {background-color: #d4ebff;}#sk-container-id-3 div.sk-parallel-item::after {content: \"\";width: 100%;border-bottom: 1px solid gray;flex-grow: 1;}#sk-container-id-3 div.sk-label:hover label.sk-toggleable__label {background-color: #d4ebff;}#sk-container-id-3 div.sk-serial::before {content: \"\";position: absolute;border-left: 1px solid gray;box-sizing: border-box;top: 0;bottom: 0;left: 50%;z-index: 0;}#sk-container-id-3 div.sk-serial {display: flex;flex-direction: column;align-items: center;background-color: white;padding-right: 0.2em;padding-left: 0.2em;position: relative;}#sk-container-id-3 div.sk-item {position: relative;z-index: 1;}#sk-container-id-3 div.sk-parallel {display: flex;align-items: stretch;justify-content: center;background-color: white;position: relative;}#sk-container-id-3 div.sk-item::before, #sk-container-id-3 div.sk-parallel-item::before {content: \"\";position: absolute;border-left: 1px solid gray;box-sizing: border-box;top: 0;bottom: 0;left: 50%;z-index: -1;}#sk-container-id-3 div.sk-parallel-item {display: flex;flex-direction: column;z-index: 1;position: relative;background-color: white;}#sk-container-id-3 div.sk-parallel-item:first-child::after {align-self: flex-end;width: 50%;}#sk-container-id-3 div.sk-parallel-item:last-child::after {align-self: flex-start;width: 50%;}#sk-container-id-3 div.sk-parallel-item:only-child::after {width: 0;}#sk-container-id-3 div.sk-dashed-wrapped {border: 1px dashed gray;margin: 0 0.4em 0.5em 0.4em;box-sizing: border-box;padding-bottom: 0.4em;background-color: white;}#sk-container-id-3 div.sk-label label {font-family: monospace;font-weight: bold;display: inline-block;line-height: 1.2em;}#sk-container-id-3 div.sk-label-container {text-align: center;}#sk-container-id-3 div.sk-container {/* jupyter's `normalize.less` sets `[hidden] { display: none; }` but bootstrap.min.css set `[hidden] { display: none !important; }` so we also need the `!important` here to be able to override the default hidden behavior on the sphinx rendered scikit-learn.org. See: https://github.com/scikit-learn/scikit-learn/issues/21755 */display: inline-block !important;position: relative;}#sk-container-id-3 div.sk-text-repr-fallback {display: none;}</style><div id=\"sk-container-id-3\" class=\"sk-top-container\"><div class=\"sk-text-repr-fallback\"><pre>LogisticRegression(random_state=123)</pre><b>In a Jupyter environment, please rerun this cell to show the HTML representation or trust the notebook. <br />On GitHub, the HTML representation is unable to render, please try loading this page with nbviewer.org.</b></div><div class=\"sk-container\" hidden><div class=\"sk-item\"><div class=\"sk-estimator sk-toggleable\"><input class=\"sk-toggleable__control sk-hidden--visually\" id=\"sk-estimator-id-3\" type=\"checkbox\" checked><label for=\"sk-estimator-id-3\" class=\"sk-toggleable__label sk-toggleable__label-arrow\">LogisticRegression</label><div class=\"sk-toggleable__content\"><pre>LogisticRegression(random_state=123)</pre></div></div></div></div></div>"
      ],
      "text/plain": [
       "LogisticRegression(random_state=123)"
      ]
     },
     "execution_count": 64,
     "metadata": {},
     "output_type": "execute_result"
    }
   ],
   "source": [
    "lr_petLength_petWidth_SepWidth=LogisticRegression(random_state=123)\n",
    "lr_petLength_petWidth_SepWidth.fit(X_train,y_train)"
   ]
  },
  {
   "cell_type": "code",
   "execution_count": 65,
   "id": "1a6b121f-a50a-435a-abdf-879c8037a729",
   "metadata": {},
   "outputs": [
    {
     "name": "stdout",
     "output_type": "stream",
     "text": [
      "Train accuracy= 0.9913793103448276 Test accuracy= 0.9310344827586207\n"
     ]
    }
   ],
   "source": [
    "print('Train accuracy=',lr_petLength_petWidth_SepWidth.score(X_train,y_train),'Test accuracy=',lr_petLength_petWidth_SepWidth.score(X_test,y_test))"
   ]
  },
  {
   "attachments": {},
   "cell_type": "markdown",
   "id": "af10fe3d-e1df-4b4d-bbd8-2fb3b46f5f33",
   "metadata": {},
   "source": [
    "All Features"
   ]
  },
  {
   "cell_type": "code",
   "execution_count": null,
   "id": "b27c98b5-bd3e-477a-bebc-bfa5a387d0ef",
   "metadata": {},
   "outputs": [],
   "source": []
  },
  {
   "cell_type": "code",
   "execution_count": 66,
   "id": "1689ee6d-010a-4986-8c69-c930ec4c45d0",
   "metadata": {},
   "outputs": [],
   "source": [
    "X_train = df_train.values[:,0:4]\n",
    "y_train = df_train.values[:,4].reshape(-1,1)"
   ]
  },
  {
   "cell_type": "code",
   "execution_count": 67,
   "id": "4f879af8-a8f0-487d-a4b1-619cce280f17",
   "metadata": {},
   "outputs": [],
   "source": [
    "X_test = df_test.values[:,0:4]\n",
    "y_test = df_test.values[:,4].reshape(-1,1)"
   ]
  },
  {
   "cell_type": "code",
   "execution_count": 68,
   "id": "2ae8fe9f-b75e-43bb-97a8-c3295c916b3a",
   "metadata": {},
   "outputs": [
    {
     "data": {
      "text/html": [
       "<style>#sk-container-id-4 {color: black;}#sk-container-id-4 pre{padding: 0;}#sk-container-id-4 div.sk-toggleable {background-color: white;}#sk-container-id-4 label.sk-toggleable__label {cursor: pointer;display: block;width: 100%;margin-bottom: 0;padding: 0.3em;box-sizing: border-box;text-align: center;}#sk-container-id-4 label.sk-toggleable__label-arrow:before {content: \"▸\";float: left;margin-right: 0.25em;color: #696969;}#sk-container-id-4 label.sk-toggleable__label-arrow:hover:before {color: black;}#sk-container-id-4 div.sk-estimator:hover label.sk-toggleable__label-arrow:before {color: black;}#sk-container-id-4 div.sk-toggleable__content {max-height: 0;max-width: 0;overflow: hidden;text-align: left;background-color: #f0f8ff;}#sk-container-id-4 div.sk-toggleable__content pre {margin: 0.2em;color: black;border-radius: 0.25em;background-color: #f0f8ff;}#sk-container-id-4 input.sk-toggleable__control:checked~div.sk-toggleable__content {max-height: 200px;max-width: 100%;overflow: auto;}#sk-container-id-4 input.sk-toggleable__control:checked~label.sk-toggleable__label-arrow:before {content: \"▾\";}#sk-container-id-4 div.sk-estimator input.sk-toggleable__control:checked~label.sk-toggleable__label {background-color: #d4ebff;}#sk-container-id-4 div.sk-label input.sk-toggleable__control:checked~label.sk-toggleable__label {background-color: #d4ebff;}#sk-container-id-4 input.sk-hidden--visually {border: 0;clip: rect(1px 1px 1px 1px);clip: rect(1px, 1px, 1px, 1px);height: 1px;margin: -1px;overflow: hidden;padding: 0;position: absolute;width: 1px;}#sk-container-id-4 div.sk-estimator {font-family: monospace;background-color: #f0f8ff;border: 1px dotted black;border-radius: 0.25em;box-sizing: border-box;margin-bottom: 0.5em;}#sk-container-id-4 div.sk-estimator:hover {background-color: #d4ebff;}#sk-container-id-4 div.sk-parallel-item::after {content: \"\";width: 100%;border-bottom: 1px solid gray;flex-grow: 1;}#sk-container-id-4 div.sk-label:hover label.sk-toggleable__label {background-color: #d4ebff;}#sk-container-id-4 div.sk-serial::before {content: \"\";position: absolute;border-left: 1px solid gray;box-sizing: border-box;top: 0;bottom: 0;left: 50%;z-index: 0;}#sk-container-id-4 div.sk-serial {display: flex;flex-direction: column;align-items: center;background-color: white;padding-right: 0.2em;padding-left: 0.2em;position: relative;}#sk-container-id-4 div.sk-item {position: relative;z-index: 1;}#sk-container-id-4 div.sk-parallel {display: flex;align-items: stretch;justify-content: center;background-color: white;position: relative;}#sk-container-id-4 div.sk-item::before, #sk-container-id-4 div.sk-parallel-item::before {content: \"\";position: absolute;border-left: 1px solid gray;box-sizing: border-box;top: 0;bottom: 0;left: 50%;z-index: -1;}#sk-container-id-4 div.sk-parallel-item {display: flex;flex-direction: column;z-index: 1;position: relative;background-color: white;}#sk-container-id-4 div.sk-parallel-item:first-child::after {align-self: flex-end;width: 50%;}#sk-container-id-4 div.sk-parallel-item:last-child::after {align-self: flex-start;width: 50%;}#sk-container-id-4 div.sk-parallel-item:only-child::after {width: 0;}#sk-container-id-4 div.sk-dashed-wrapped {border: 1px dashed gray;margin: 0 0.4em 0.5em 0.4em;box-sizing: border-box;padding-bottom: 0.4em;background-color: white;}#sk-container-id-4 div.sk-label label {font-family: monospace;font-weight: bold;display: inline-block;line-height: 1.2em;}#sk-container-id-4 div.sk-label-container {text-align: center;}#sk-container-id-4 div.sk-container {/* jupyter's `normalize.less` sets `[hidden] { display: none; }` but bootstrap.min.css set `[hidden] { display: none !important; }` so we also need the `!important` here to be able to override the default hidden behavior on the sphinx rendered scikit-learn.org. See: https://github.com/scikit-learn/scikit-learn/issues/21755 */display: inline-block !important;position: relative;}#sk-container-id-4 div.sk-text-repr-fallback {display: none;}</style><div id=\"sk-container-id-4\" class=\"sk-top-container\"><div class=\"sk-text-repr-fallback\"><pre>LogisticRegression(random_state=123)</pre><b>In a Jupyter environment, please rerun this cell to show the HTML representation or trust the notebook. <br />On GitHub, the HTML representation is unable to render, please try loading this page with nbviewer.org.</b></div><div class=\"sk-container\" hidden><div class=\"sk-item\"><div class=\"sk-estimator sk-toggleable\"><input class=\"sk-toggleable__control sk-hidden--visually\" id=\"sk-estimator-id-4\" type=\"checkbox\" checked><label for=\"sk-estimator-id-4\" class=\"sk-toggleable__label sk-toggleable__label-arrow\">LogisticRegression</label><div class=\"sk-toggleable__content\"><pre>LogisticRegression(random_state=123)</pre></div></div></div></div></div>"
      ],
      "text/plain": [
       "LogisticRegression(random_state=123)"
      ]
     },
     "execution_count": 68,
     "metadata": {},
     "output_type": "execute_result"
    }
   ],
   "source": [
    "lr_all=LogisticRegression(random_state=123)\n",
    "lr_all.fit(X_train,y_train)"
   ]
  },
  {
   "cell_type": "code",
   "execution_count": 69,
   "id": "89fbf3fa-9c8d-4132-9d3c-cc1c35d3bf6a",
   "metadata": {},
   "outputs": [
    {
     "name": "stdout",
     "output_type": "stream",
     "text": [
      "Train accuracy= 0.9913793103448276 Test accuracy= 0.9310344827586207\n"
     ]
    }
   ],
   "source": [
    "print('Train accuracy=',lr_all.score(X_train,y_train),'Test accuracy=',lr_all.score(X_test,y_test))"
   ]
  },
  {
   "attachments": {},
   "cell_type": "markdown",
   "id": "85bedc0c-bc56-4cd7-940d-a89ecce2f702",
   "metadata": {},
   "source": [
    "The test accuracies of above models are\n",
    "\n",
    "Only Petal Length 86.2%\n",
    "Petal Length and Petal Width 96.5%\n",
    "Petal Length & Width and Sepal Width 96.5%\n",
    "With all features 96.5%\n",
    "Machine learning model using only one feature ‘Petal Length’ achieves 86.2%. When the next influential feature ‘Petal Width’ is included along with ‘Petal Length’, the test accuracy of the model increased to 96.5%. However adding more features does not improve the test accuracy.\n",
    "\n",
    "I can conclude that only two features ‘Petal Length’ and ‘Petal Width’ are the important features. Hence to build a machine learning model I need to use only these two features."
   ]
  },
  {
   "cell_type": "code",
   "execution_count": null,
   "id": "6177fe10-89fc-4a28-801f-c33f46808fdc",
   "metadata": {},
   "outputs": [],
   "source": []
  },
  {
   "cell_type": "code",
   "execution_count": null,
   "id": "7c762fe3",
   "metadata": {},
   "outputs": [],
   "source": []
  }
 ],
 "metadata": {
  "kernelspec": {
   "display_name": "Python 3 (ipykernel)",
   "language": "python",
   "name": "python3"
  },
  "language_info": {
   "codemirror_mode": {
    "name": "ipython",
    "version": 3
   },
   "file_extension": ".py",
   "mimetype": "text/x-python",
   "name": "python",
   "nbconvert_exporter": "python",
   "pygments_lexer": "ipython3",
   "version": "3.11.4"
  }
 },
 "nbformat": 4,
 "nbformat_minor": 5
}
